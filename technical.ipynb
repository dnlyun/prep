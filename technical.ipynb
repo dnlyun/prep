{
 "cells": [
  {
   "cell_type": "markdown",
   "metadata": {},
   "source": [
    "# Technical Interview Prep"
   ]
  },
  {
   "cell_type": "markdown",
   "metadata": {},
   "source": [
    "## Basics"
   ]
  },
  {
   "cell_type": "markdown",
   "metadata": {},
   "source": [
    "### Data Types"
   ]
  },
  {
   "cell_type": "markdown",
   "metadata": {},
   "source": [
    "Numbers"
   ]
  },
  {
   "cell_type": "code",
   "execution_count": null,
   "metadata": {},
   "outputs": [],
   "source": [
    "# int\n",
    "a = 1\n",
    "\n",
    "# float\n",
    "b = 3e4\n",
    "c = 2.7\n",
    "d = 1.4e-2\n",
    "\n",
    "# complex\n",
    "e = 1 + 1j\n",
    "\n",
    "# convert int to binary string prefixed with '0b\n",
    "f = bin(a)\n",
    "print(f)\n",
    "\n",
    "# convert string to int\n",
    "g = int(f, 2) # base=2\n",
    "print(g)"
   ]
  },
  {
   "cell_type": "markdown",
   "metadata": {},
   "source": [
    "Char"
   ]
  },
  {
   "cell_type": "code",
   "execution_count": null,
   "metadata": {},
   "outputs": [],
   "source": [
    "# unicode\n",
    "print(chr(97), ord('a'))"
   ]
  },
  {
   "cell_type": "markdown",
   "metadata": {},
   "source": [
    "Strings"
   ]
  },
  {
   "cell_type": "code",
   "execution_count": null,
   "metadata": {},
   "outputs": [],
   "source": [
    "string = 'Hello World'\n",
    "\n",
    "# find(value, start, stop): first occurence of value, return -1 if value not found. rfind for last occurrence\n",
    "string.find('Hello')\n",
    "\n",
    "# to check if string is a number\n",
    "string.isdecimal()\n",
    "string.isdigit()\n",
    "string.isnumeric()\n",
    "\n",
    "# to check if string is alphanumeric\n",
    "string.isalnum()"
   ]
  },
  {
   "cell_type": "code",
   "execution_count": null,
   "metadata": {},
   "outputs": [],
   "source": [
    "# strip(characters), eg. strip(',.') to remove any leading/trailing commas and periods. lstrip for leading and rstrip for trailing\n",
    "string.strip()\n",
    "\n",
    "# change all uppercase to lowercase and vice versa\n",
    "string.lower()\n",
    "string.upper()\n",
    "\n",
    "# split/join\n",
    "arr = string.split()\n",
    "string = ' '.join(arr)"
   ]
  },
  {
   "cell_type": "markdown",
   "metadata": {},
   "source": [
    "F-strings"
   ]
  },
  {
   "cell_type": "code",
   "execution_count": null,
   "metadata": {},
   "outputs": [],
   "source": [
    "a, b, c = 10, 4, 14\n",
    "new_string = f'{a} + {b} = {c}' # f'{a + b = }'\n",
    "print(new_string)\n",
    "print(f'{a = }, {b = }, {c = }')\n",
    "\n",
    "print(f'2 decimal places: {a:.2f}')\n",
    "print(f'hex: {a:#x}')\n",
    "print(f'binary {a:b}') # #b to include prefix\n",
    "print(f'scientic notation {a:e}')\n",
    "print(f'9 digits {a:09}')"
   ]
  },
  {
   "cell_type": "markdown",
   "metadata": {},
   "source": [
    "Print"
   ]
  },
  {
   "cell_type": "code",
   "execution_count": null,
   "metadata": {},
   "outputs": [],
   "source": [
    "# by default, print sep = ' '\n",
    "print('1', '2', '3', sep='-')\n",
    "\n",
    "# by default, print end = '\\n'\n",
    "for i in range(3):\n",
    "    print(i, end = ' ')\n",
    "print()"
   ]
  },
  {
   "cell_type": "markdown",
   "metadata": {},
   "source": [
    "### Loops"
   ]
  },
  {
   "cell_type": "code",
   "execution_count": null,
   "metadata": {},
   "outputs": [],
   "source": [
    "for i in range(10):\n",
    "    ...\n",
    "else:\n",
    "    ... # only executed if for loop didn't break\n",
    "\n",
    "nums = ...\n",
    "for num in nums:\n",
    "    ...\n",
    "for i, num in enumerate(nums):\n",
    "    ...\n",
    "\n",
    "arr1, arr2 = ...\n",
    "for a1, a2 in zip(arr1, arr2):\n",
    "    ..."
   ]
  },
  {
   "cell_type": "markdown",
   "metadata": {},
   "source": [
    "### Random"
   ]
  },
  {
   "cell_type": "code",
   "execution_count": null,
   "metadata": {},
   "outputs": [],
   "source": [
    "import random\n",
    "\n",
    "# set seed\n",
    "random.seed(1)\n",
    "\n",
    "'''\n",
    "start <= N < stop\n",
    "randrange(stop)\n",
    "randrange(start, stop[, step])\n",
    "'''\n",
    "print(random.randrange(10))\n",
    "\n",
    "'''\n",
    "start <= N <= stop\n",
    "randint(start, stop)\n",
    "alias for randrange(start, stop + 1)\n",
    "'''\n",
    "print(random.randint(0, 9))\n",
    "\n",
    "'''\n",
    "0.0 <= N < 1.0\n",
    "random()\n",
    "'''\n",
    "print(random.random())\n",
    "\n",
    "'''\n",
    "start <= N <= stop\n",
    "uniform(start, stop)\n",
    "'''\n",
    "print(random.uniform(2, 3))\n",
    "\n",
    "'''\n",
    "choose random item from non-empty sequence\n",
    "'''\n",
    "a = [1, 2, 3]\n",
    "print(random.choice(a))\n",
    "\n",
    "'''\n",
    "randomize sequence in place\n",
    "'''\n",
    "random.shuffle(a)\n",
    "print(a)"
   ]
  },
  {
   "cell_type": "markdown",
   "metadata": {},
   "source": [
    "### Functions"
   ]
  },
  {
   "cell_type": "markdown",
   "metadata": {},
   "source": [
    "Type hinting"
   ]
  },
  {
   "cell_type": "code",
   "execution_count": null,
   "metadata": {},
   "outputs": [],
   "source": [
    "num: int = 0\n",
    "\n",
    "def type_hinting1(x: int, y: int | None = None) -> list[int]:\n",
    "    ..."
   ]
  },
  {
   "cell_type": "markdown",
   "metadata": {},
   "source": [
    "Packing"
   ]
  },
  {
   "cell_type": "code",
   "execution_count": null,
   "metadata": {},
   "outputs": [],
   "source": [
    "a, *b = 1, 2, 3\n",
    "print(a, b)\n",
    "\n",
    "name = 'First Middle Last'\n",
    "first, *remaining = name.split()\n",
    "print(first, remaining)\n",
    "\n",
    "def add(*nums):\n",
    "    return sum(nums)\n",
    "print(add(1, 1, 1, 1, 1))"
   ]
  },
  {
   "cell_type": "markdown",
   "metadata": {},
   "source": [
    "Lambda functions"
   ]
  },
  {
   "cell_type": "code",
   "execution_count": null,
   "metadata": {},
   "outputs": [],
   "source": [
    "x = lambda a: a + 1\n",
    "print(x(5))\n",
    "\n",
    "y = lambda a, b: a + b\n",
    "print(y(3, 4))"
   ]
  },
  {
   "cell_type": "markdown",
   "metadata": {},
   "source": [
    "Accessing variables in different scopes"
   ]
  },
  {
   "cell_type": "code",
   "execution_count": null,
   "metadata": {},
   "outputs": [],
   "source": [
    "# global\n",
    "def global_var():\n",
    "    global x # declare as global\n",
    "    x = 8 # define locally\n",
    "print(x)\n",
    "\n",
    "# nonlocal\n",
    "def outer():\n",
    "    x = 1\n",
    "    def inner():\n",
    "        nonlocal x\n",
    "        x = 9"
   ]
  },
  {
   "cell_type": "markdown",
   "metadata": {},
   "source": [
    "Main function"
   ]
  },
  {
   "cell_type": "code",
   "execution_count": null,
   "metadata": {},
   "outputs": [],
   "source": [
    "def main():\n",
    "    ...\n",
    "\n",
    "if __name__ == \"__main__\":\n",
    "    main()"
   ]
  },
  {
   "cell_type": "markdown",
   "metadata": {},
   "source": [
    "### Class"
   ]
  },
  {
   "cell_type": "code",
   "execution_count": null,
   "metadata": {},
   "outputs": [],
   "source": [
    "class Person:\n",
    "    def __init__(self, name, age):\n",
    "        self.name = name\n",
    "        self.age = age\n",
    "\n",
    "    def __str__(self):\n",
    "        return f'{self.name}-{self.age}'\n",
    "\n",
    "class Student(Person):\n",
    "    def __init__(self, name, age, studentId):\n",
    "        super().__init__(name, age) # Person.__init__(name, age)\n",
    "        self.studentId = studentId\n",
    "\n",
    "s = Student('First Last', 10, 1)\n",
    "\n",
    "# unique id of object\n",
    "print(id(s))\n",
    "\n",
    "# attributes\n",
    "print(getattr(s, 'studentId'))\n",
    "print(getattr(s, 'grade', 100)) # return 100 if grade is not an attribute\n",
    "\n",
    "setattr(s, 'grade', 100)\n",
    "\n",
    "'''\n",
    "type vs instance\n",
    "\n",
    "isinstance() supports inheritance, type does not\n",
    "'''\n",
    "print(type(Student()) == Person, isinstance(Student(), Person))"
   ]
  },
  {
   "cell_type": "markdown",
   "metadata": {},
   "source": [
    "### Bit Manipulation"
   ]
  },
  {
   "cell_type": "markdown",
   "metadata": {},
   "source": [
    "Bitwise operators"
   ]
  },
  {
   "cell_type": "code",
   "execution_count": null,
   "metadata": {},
   "outputs": [],
   "source": [
    "a, b, n = ...\n",
    "\n",
    "# AND\n",
    "a & b\n",
    "\n",
    "# OR\n",
    "a | b\n",
    "\n",
    "# XOR\n",
    "a ^ b\n",
    "\n",
    "# NOT\n",
    "~a\n",
    "\n",
    "# left shift\n",
    "a << n\n",
    "\n",
    "# right shift\n",
    "a >> n"
   ]
  },
  {
   "cell_type": "markdown",
   "metadata": {},
   "source": [
    "## Data Structures & Algorithms"
   ]
  },
  {
   "cell_type": "markdown",
   "metadata": {},
   "source": [
    "### Arrays & Tuples\n",
    "\n",
    "slicing [ start : stop : step ]\n",
    "\n",
    "index(x[, start[, end]])\n",
    "- raises error if item not found"
   ]
  },
  {
   "cell_type": "code",
   "execution_count": 4,
   "metadata": {},
   "outputs": [],
   "source": [
    "# arrays: [], list()\n",
    "\n",
    "# tuples: (), tuple()"
   ]
  },
  {
   "cell_type": "markdown",
   "metadata": {},
   "source": [
    "#### Sorting Algorithms"
   ]
  },
  {
   "cell_type": "code",
   "execution_count": null,
   "metadata": {},
   "outputs": [],
   "source": [
    "# bubble sort\n",
    "def bubble_sort(nums):\n",
    "    for i in range(1, len(nums)):\n",
    "        swapped = False\n",
    "        for j in range(len(nums) - i):\n",
    "            if nums[j] > nums[j + 1]:\n",
    "                nums[j], nums[j + 1] = nums[j + 1], nums[j]\n",
    "                swapped = True\n",
    "        if not swapped:\n",
    "            break\n",
    "    return nums\n",
    "\n",
    "\n",
    "# selection sort\n",
    "def selection_sort(nums):\n",
    "    for i in range(len(nums) - 1):\n",
    "        min_i = i\n",
    "        for j in range(i + 1, len(nums)):\n",
    "            if nums[j] < nums[min_i]:\n",
    "                min_i = j\n",
    "        nums[i], nums[min_i] = nums[min_i], nums[i]\n",
    "    return nums\n",
    "\n",
    "\n",
    "# insertion sort\n",
    "def insertion_sort(nums):\n",
    "    for i in range(1, len(nums)):\n",
    "        j = i - 1\n",
    "        key = nums[i]\n",
    "        while j > -1 and nums[j] > key:\n",
    "            nums[j + 1] = nums[j]\n",
    "            j -= 1\n",
    "        nums[j + 1] = key\n",
    "    return nums\n",
    "\n",
    "\n",
    "# merge sort\n",
    "def merge(arr1, arr2):\n",
    "    p1, p2 = 0, 0\n",
    "    res = []\n",
    "    while p1 < len(arr1) and p2 < len(arr2):\n",
    "        if arr1[p1] < arr2[p2]:\n",
    "            res.append(arr1[p1])\n",
    "            p1 += 1\n",
    "        else:\n",
    "            res.append(arr2[p2])\n",
    "            p2 += 1\n",
    "    while p1 < len(arr1):\n",
    "        res.append(arr1[p1])\n",
    "        p1 += 1\n",
    "    while p2 < len(arr2):\n",
    "        res.append(arr2[p2])\n",
    "        p2 += 1\n",
    "    return res\n",
    "\n",
    "def merge_sort(nums):\n",
    "    if len(nums) > 1:\n",
    "        mid = len(nums) // 2\n",
    "        leftArr = nums[:mid]\n",
    "        rightArr = nums[mid:]\n",
    "\n",
    "        leftArr = merge_sort(leftArr)\n",
    "        rightArr = merge_sort(rightArr)\n",
    "        return merge(leftArr, rightArr)\n",
    "    return nums\n",
    "\n",
    "\n",
    "# quick sort\n",
    "# average = best = O(nlogn), worst = O(n^2) when pivot is small or large\n",
    "def partition(nums, l, r, pivot):\n",
    "    mid = nums[pivot]\n",
    "    pivot = l\n",
    "    while pivot <= r:\n",
    "        if nums[pivot] == mid:\n",
    "            pivot += 1\n",
    "        elif nums[pivot] < mid:\n",
    "            nums[l], nums[pivot] = nums[pivot], nums[l]\n",
    "            l += 1\n",
    "            pivot += 1\n",
    "        else:\n",
    "            nums[r], nums[pivot] = nums[pivot], nums[r]\n",
    "            r -= 1\n",
    "    return l, r\n",
    "\n",
    "def quicksort(nums, l, r):\n",
    "    if r <= l:\n",
    "        return\n",
    "    pivot = random.randrange(l, r)\n",
    "    left, right = partition(nums, l, r, pivot) # order in-place\n",
    "    quicksort(nums, l, left - 1)\n",
    "    quicksort(nums, right + 1, r)"
   ]
  },
  {
   "cell_type": "markdown",
   "metadata": {},
   "source": [
    "#### Two Pointers & Sliding Window"
   ]
  },
  {
   "cell_type": "code",
   "execution_count": null,
   "metadata": {},
   "outputs": [],
   "source": [
    "seq = ...\n",
    "\n",
    "# case 1\n",
    "l, r = 0, len(seq) - 1\n",
    "while l < r:\n",
    "    ...\n",
    "    # update pointers\n",
    "\n",
    "# case 2\n",
    "l, r = 0, 0\n",
    "while r < len(seq):\n",
    "    ...\n",
    "    # update pointers\n",
    "\n",
    "# two pointers (process pairs of items)\n",
    "\n",
    "# sliding window (process subarrays)"
   ]
  },
  {
   "cell_type": "markdown",
   "metadata": {},
   "source": [
    "#### Binary Search"
   ]
  },
  {
   "cell_type": "code",
   "execution_count": null,
   "metadata": {},
   "outputs": [],
   "source": [
    "sorted_arr = ...\n",
    "target = ...\n",
    "\n",
    "def binary_search(sorted_arr, target):\n",
    "    l, r = 0, len(sorted_arr) - 1\n",
    "    while l <= r:\n",
    "        mid = l + (r - l) // 2 # same as (l + r) // 2, prevents overflow (useful in lang like c++)\n",
    "        if sorted_arr[mid] == target: return mid\n",
    "        if sorted_arr[mid] < target: l = mid + 1\n",
    "        if sorted_arr[mid] > target: r = mid - 1\n",
    "    return -1 # target not found\n",
    "\n",
    "'''\n",
    "general binary search problem\n",
    "\n",
    "search space = [0, N]\n",
    "minimize/maximize k in search space s.t. condition(k) == True\n",
    "'''\n",
    "condition = ...\n",
    "\n",
    "def minimize(N, condition):\n",
    "    l, r = 0, N\n",
    "    while l < r:\n",
    "        mid = l + (r - l) // 2\n",
    "        if condition(mid) == True:\n",
    "            r = mid\n",
    "        else:\n",
    "            l = mid + 1\n",
    "    return l # or return l - 1 depending on problem"
   ]
  },
  {
   "cell_type": "markdown",
   "metadata": {},
   "source": [
    "### Linked Lists"
   ]
  },
  {
   "cell_type": "code",
   "execution_count": null,
   "metadata": {},
   "outputs": [],
   "source": [
    "class ListNode:\n",
    "    def __init__(self, val=0, next=None):\n",
    "        self.val = val\n",
    "        self.next = next\n",
    "\n",
    "'''\n",
    "slow and fast pointers (variation of two pointers)\n",
    "- cycle detection\n",
    "- middle of linked list\n",
    "'''\n",
    "head = ...\n",
    "slow = fast = head\n",
    "while fast and fast.next:\n",
    "    slow = slow.next\n",
    "    fast = fast.next.next\n",
    "    ..."
   ]
  },
  {
   "cell_type": "markdown",
   "metadata": {},
   "source": [
    "### Stacks"
   ]
  },
  {
   "cell_type": "code",
   "execution_count": 5,
   "metadata": {},
   "outputs": [
    {
     "data": {
      "text/plain": [
       "1"
      ]
     },
     "execution_count": 5,
     "metadata": {},
     "output_type": "execute_result"
    }
   ],
   "source": [
    "# use lists as stacks\n",
    "stack = []"
   ]
  },
  {
   "cell_type": "markdown",
   "metadata": {},
   "source": [
    "### Queues"
   ]
  },
  {
   "cell_type": "code",
   "execution_count": null,
   "metadata": {},
   "outputs": [],
   "source": [
    "from collections import deque\n",
    "\n",
    "queue = deque()"
   ]
  },
  {
   "cell_type": "markdown",
   "metadata": {},
   "source": [
    "### Heap"
   ]
  },
  {
   "cell_type": "code",
   "execution_count": null,
   "metadata": {},
   "outputs": [],
   "source": [
    "from heapq import heapify, heappop, heappush\n",
    "\n",
    "minHeap = ...\n",
    "heapify(minHeap)\n",
    "\n",
    "maxHeap = ...\n",
    "# invert values\n",
    "maxHeap = [-x for x in maxHeap]\n",
    "heapify(maxHeap)"
   ]
  },
  {
   "cell_type": "markdown",
   "metadata": {},
   "source": [
    "### Sets"
   ]
  },
  {
   "cell_type": "code",
   "execution_count": null,
   "metadata": {},
   "outputs": [],
   "source": [
    "# {}, set()\n",
    "set1, set2 = ...\n",
    "\n",
    "set1.difference(set2)\n",
    "set1 - set2 # -=\n",
    "\n",
    "set1.intersection(set2)\n",
    "set1 & set2 # &=\n",
    "\n",
    "set1.issubset(set2)\n",
    "set1 <= set2 # >=\n",
    "\n",
    "set1.union(set2)\n",
    "set1 | set2 # |="
   ]
  },
  {
   "cell_type": "markdown",
   "metadata": {},
   "source": [
    "### Dicts"
   ]
  },
  {
   "cell_type": "code",
   "execution_count": null,
   "metadata": {},
   "outputs": [],
   "source": [
    "# {}, dict()\n",
    "dict1, dict2 = ...\n",
    "\n",
    "dict1.update(dict2)\n",
    "dict1 | dict2 # |=\n",
    "\n",
    "dict1.keys()\n",
    "dict1.values()\n",
    "dict1.items()"
   ]
  },
  {
   "cell_type": "markdown",
   "metadata": {},
   "source": [
    "### Graphs"
   ]
  },
  {
   "cell_type": "markdown",
   "metadata": {},
   "source": [
    "#### Search"
   ]
  },
  {
   "cell_type": "code",
   "execution_count": null,
   "metadata": {},
   "outputs": [],
   "source": [
    "def dfs(node, visited):\n",
    "    visited[node] = True\n",
    "\n",
    "    for neighbor in node.neighbors:\n",
    "        if not visited[neighbor]:\n",
    "            dfs(neighbor, visited)\n",
    "\n",
    "# cycle detection using dfs\n",
    "def isCyclic(node, visited, curr_path):\n",
    "    if visited[node]:\n",
    "        return False\n",
    "    \n",
    "    if curr_path[node]:\n",
    "        return True\n",
    "    \n",
    "    curr_path[node] = True\n",
    "\n",
    "    for neighbor in node.neighbors:\n",
    "        if isCyclic(neighbor, visited, curr_path):\n",
    "            return True\n",
    "            \n",
    "    visited[node] = True\n",
    "    curr_path[node] = False\n",
    "    return False\n",
    "\n",
    "def bfs(node):\n",
    "    queue = deque([node])\n",
    "    visited = ...\n",
    "\n",
    "    while queue:\n",
    "        n = queue.popleft()\n",
    "        visited[n] = True\n",
    "        for neighbor in n.neighbors:\n",
    "            if not visited[neighbor]:\n",
    "                queue.append(neighbor)"
   ]
  },
  {
   "cell_type": "markdown",
   "metadata": {},
   "source": [
    "#### Topological Sort"
   ]
  },
  {
   "cell_type": "code",
   "execution_count": null,
   "metadata": {},
   "outputs": [],
   "source": [
    "def topological_sort(graph):\n",
    "    in_deg = {node: 0 for node in graph}\n",
    "\n",
    "    for node in graph:\n",
    "        for neighbor in node.neighbors:\n",
    "            in_deg[neighbor] += 1\n",
    "\n",
    "    in_deg_0 = deque([node for node in in_deg if in_deg[node] == 0])\n",
    "\n",
    "    topo_order = []\n",
    "    while in_deg_0:\n",
    "        node = in_deg_0.popleft()\n",
    "        topo_order.append(node)\n",
    "\n",
    "        for neighbor in node.neighbors:\n",
    "            in_deg[neighbor] -= 1\n",
    "            if in_deg[neighbor] == 0:\n",
    "                topo_order.append(neighbor)\n",
    "\n",
    "    if len(topo_order) != n:\n",
    "        # caontains cycle, cannot be topo sorted\n",
    "        return\n",
    "    return topo_order"
   ]
  },
  {
   "cell_type": "markdown",
   "metadata": {},
   "source": [
    "#### Shortest Path"
   ]
  },
  {
   "cell_type": "code",
   "execution_count": null,
   "metadata": {},
   "outputs": [],
   "source": [
    "'''\n",
    "dijkstra's\n",
    "- shortest path from source vertex\n",
    "\n",
    "time copmlexity\n",
    "    - O((|V| + |E|) * logV) with priority queue\n",
    "    - O(|V|^2) with array\n",
    "'''\n",
    "def dijkstra(graph, src):\n",
    "    dist = [float('inf')] * n\n",
    "    \n",
    "    visited = ...\n",
    "    queue = [(0, src)]\n",
    "    while queue:\n",
    "        d, node = heappop(queue)\n",
    "        if visited[node]:\n",
    "            continue\n",
    "\n",
    "        visited[node] = True\n",
    "        dist[node] = d\n",
    "\n",
    "        for neighbor, weight in node.neighbors:\n",
    "            if not visited[neighbor] and d + weight < dist[neighbor]:\n",
    "                heappush(queue, (d + weight, neighbor))\n",
    "    return dist\n",
    "\n",
    "'''\n",
    "bellman-ford\n",
    "- shortest path from source vertex\n",
    "- can handle negative weights and detect negative cycles\n",
    "\n",
    "time complexity O(|V| * |E|)\n",
    "'''\n",
    "def bellman_ford(graph, src):\n",
    "    dist = [float('inf')] * n\n",
    "    dist[src] = 0\n",
    "\n",
    "    for i in range(n - 1):\n",
    "        for node in graph:\n",
    "            for neighbor, weight in node.neighbors:\n",
    "                if dist[node] + weight < dist[neighbor]:\n",
    "                    dist[neighbor] = dist[node] + weight\n",
    "\n",
    "    # check negative cycle \n",
    "    for node in graph:\n",
    "        for neighbor, weight in node.neighbors:\n",
    "            if dist[node] + weight < dist[neighbor]:\n",
    "                # shortest path can be improved -> contains negative cycle\n",
    "                ...\n",
    "            \n",
    "    return dist\n",
    "\n",
    "'''\n",
    "floyd-warshall\n",
    "- shortest path between all pairs of vertices\n",
    "'''"
   ]
  },
  {
   "cell_type": "markdown",
   "metadata": {},
   "source": [
    "#### Minimum Spanning Tree"
   ]
  },
  {
   "cell_type": "markdown",
   "metadata": {},
   "source": [
    "![](https://i.sstatic.net/6RCFr.gif)"
   ]
  },
  {
   "cell_type": "code",
   "execution_count": null,
   "metadata": {},
   "outputs": [],
   "source": [
    "'''\n",
    "kruskal\n",
    "- keep adding the shortest edge to collection of components\n",
    "\n",
    "time complexity\n",
    "    - O(|E| * log|E|)\n",
    "    - |E| <= |V|^2\n",
    "    - O(|E| * log|V|^2) = O(E * log|V|)\n",
    "'''\n",
    "def kruskal(graph):\n",
    "    ..."
   ]
  },
  {
   "cell_type": "markdown",
   "metadata": {},
   "source": [
    "![](https://i.sstatic.net/KofyW.gif)"
   ]
  },
  {
   "cell_type": "code",
   "execution_count": null,
   "metadata": {},
   "outputs": [],
   "source": [
    "'''\n",
    "prim\n",
    "- add shortest edge to subgraph that doesn't create a cycle\n",
    "\n",
    "time complexity O((|V| + |E|) * logV)\n",
    "'''\n",
    "def prim(graph):\n",
    "    ..."
   ]
  },
  {
   "cell_type": "markdown",
   "metadata": {},
   "source": [
    "#### Connected Components\n",
    "\n",
    "weakly connected components - all vertices are connected by some path, ignoring direction of edges\n",
    "\n",
    "strongly connected component - every pair of vertices is mutually reachable\n"
   ]
  },
  {
   "cell_type": "code",
   "execution_count": null,
   "metadata": {},
   "outputs": [],
   "source": [
    "'''\n",
    "kosaraju\n",
    "\n",
    "1. run dfs, push node onto stack once it's finished\n",
    "2. reverse the direction of all edges in the graph\n",
    "3. run dfs in order of the nodes on stack, giving us one SCC\n",
    "'''\n",
    "nodes = ...\n",
    "\n",
    "visited = ...\n",
    "stack = []\n",
    "\n",
    "def dfs(node, visited):\n",
    "    visited[node] = True\n",
    "    for neighbor in node.neighbors:\n",
    "        if not visited[neighbor]:\n",
    "            dfs(neighbor, visited)\n",
    "    stack.append(node)\n",
    "\n",
    "for node in nodes:\n",
    "    if not visited[node]:\n",
    "        dfs(node, visited)\n",
    "\n",
    "# create reversed graph\n",
    "# swap incoming to outgoing edges and vice versa\n",
    "\n",
    "scc = 0\n",
    "scc_map = ...\n",
    "\n",
    "def dfs_reversed(node, visited, scc_map, scc):\n",
    "    visited[node] = False\n",
    "    scc_map[node] = scc\n",
    "    for neighbor in node.nieghbors:\n",
    "        if visited[neighbor]:\n",
    "            dfs_reversed(neighbor, visited)\n",
    "        \n",
    "while stack:\n",
    "    node = stack.pop()\n",
    "    if visited[node]:\n",
    "        dfs_reversed(node, visited, scc_map, scc)\n",
    "        scc += 1\n",
    "\n",
    "'''\n",
    "disjoint set (union find)\n",
    "\n",
    "1. mark each node's parent as itself (each node is in its own set)\n",
    "2. if two nodes are merged, update one of the nodes' parent to the other\n",
    "'''\n",
    "n = ... # num nodes\n",
    "parent = [i for i in range(n)]\n",
    "\n",
    "# optimization: union by rank\n",
    "rank = [0] * n\n",
    "\n",
    "def find(x):\n",
    "    if parent[x] == x:\n",
    "        return x\n",
    "    \n",
    "    # path compression\n",
    "    p = find(parent[x])\n",
    "    parent[x] = p\n",
    "\n",
    "    return p\n",
    "\n",
    "def union(x, y):\n",
    "    x_parent = find(x)\n",
    "    y_parent = find(y)\n",
    "\n",
    "    if x_parent == y_parent:\n",
    "        return\n",
    "\n",
    "    if rank[x_parent] < rank[y_parent]:\n",
    "        parent[x_parent] = y_parent\n",
    "    elif rank[y_parent] < rank[x_parent]:\n",
    "        parent[y_parent] = x_parent\n",
    "    else:\n",
    "        parent[x_parent] = y_parent\n",
    "        rank[y_parent] += 1"
   ]
  },
  {
   "cell_type": "markdown",
   "metadata": {},
   "source": [
    "### Trees"
   ]
  },
  {
   "cell_type": "code",
   "execution_count": null,
   "metadata": {},
   "outputs": [],
   "source": [
    "# binary tree\n",
    "class TreeNode:\n",
    "    def __init__(self, val=0, left=None, right=None):\n",
    "        self.val = val\n",
    "        self.left = left\n",
    "        self.right = right\n",
    "\n",
    "'''\n",
    "n-ary tree\n",
    "\n",
    "class TreeNode:\n",
    "    def __init__(self, val=0, children: List[TreeNode]=None):\n",
    "        self.val = val\n",
    "        self.children = children\n",
    "'''"
   ]
  },
  {
   "cell_type": "markdown",
   "metadata": {},
   "source": [
    "Traversals"
   ]
  },
  {
   "cell_type": "code",
   "execution_count": null,
   "metadata": {},
   "outputs": [],
   "source": [
    "# preorder traversal\n",
    "def preorder(root):\n",
    "    if not root:\n",
    "        return []\n",
    "    return [root.val] + preorder(root.left) + preorder(root.right)\n",
    "\n",
    "# inorder traversal\n",
    "def inorder(root):\n",
    "    if not root:\n",
    "        return []\n",
    "    return inorder(root.left) + [root.val] + inorder(root.right)\n",
    "\n",
    "# postorder traversal\n",
    "def postorder(root):\n",
    "    if not root:\n",
    "        return []\n",
    "    return postorder(root.left) + postorder(root.right) + [root.val]"
   ]
  },
  {
   "cell_type": "markdown",
   "metadata": {},
   "source": [
    "#### Binary Search Tree"
   ]
  },
  {
   "cell_type": "code",
   "execution_count": null,
   "metadata": {},
   "outputs": [],
   "source": [
    "'''\n",
    "binary tree with following property:\n",
    "- node N's left child and its descendants have value lower N's value\n",
    "- node N's right child and its descendants have value higher than N's value\n",
    "\n",
    "inorder traversal will result in visiting the nodes by their value in increasing order\n",
    "'''\n",
    "\n",
    "# time complexity: O(h)\n",
    "def search(node, value):\n",
    "    if not node:\n",
    "        return None\n",
    "    elif node.val == value:\n",
    "        return node\n",
    "    elif node.val < value:\n",
    "        return search(node.right, value)\n",
    "    else:\n",
    "        return search(node.left, value)\n",
    "    \n",
    "# time complexity: O(h)\n",
    "def insert(node, value):\n",
    "    if not node:\n",
    "        return TreeNode(value)\n",
    "    elif node.val < value:\n",
    "        node.right = insert(node.right, value)\n",
    "    elif node.val > value:\n",
    "        node.left = insert(node.left, value)\n",
    "    return node\n",
    "\n",
    "'''\n",
    "case 1: remove leaf node\n",
    "case 2: remove node with 1 child -> copy child node and delete child\n",
    "case 2: remove node with 2 children -> copy inorder successor and delete inorder successor\n",
    "'''\n",
    "def remove(node, value):\n",
    "    ...\n",
    "\n",
    "'''\n",
    "do inorder traversal, make root node the middle item, recurse for left and right\n",
    "balancing BST will reduce height, optimizing search/insert/remove\n",
    "'''\n",
    "def balance(node):\n",
    "    def create_subtree(arr, l, r):\n",
    "        if r < l:\n",
    "            return\n",
    "        mid = l + (r - l) // 2\n",
    "        root = TreeNode(arr[mid],\n",
    "                        create_subtree(arr, l, mid - 1),\n",
    "                        create_subtree(arr, mid + 1, r))\n",
    "        return root\n",
    "    \n",
    "    arr = inorder(node)\n",
    "    return create_subtree(arr, 0, len(arr) - 1)"
   ]
  },
  {
   "cell_type": "markdown",
   "metadata": {},
   "source": [
    "#### AVL Tree\n",
    "\n",
    " self-balancing BST where the height of left and right subtrees of any node cannot exceed 1"
   ]
  },
  {
   "cell_type": "code",
   "execution_count": null,
   "metadata": {},
   "outputs": [],
   "source": [
    "# search: similar to BST\n",
    "\n",
    "# insert\n",
    "\n",
    "# remove"
   ]
  },
  {
   "cell_type": "markdown",
   "metadata": {},
   "source": [
    "#### Red Black Tree"
   ]
  },
  {
   "cell_type": "code",
   "execution_count": null,
   "metadata": {},
   "outputs": [],
   "source": []
  },
  {
   "cell_type": "markdown",
   "metadata": {},
   "source": [
    "#### B-Tree"
   ]
  },
  {
   "cell_type": "code",
   "execution_count": null,
   "metadata": {},
   "outputs": [],
   "source": []
  },
  {
   "cell_type": "markdown",
   "metadata": {},
   "source": [
    "#### Segment Tree"
   ]
  },
  {
   "cell_type": "code",
   "execution_count": null,
   "metadata": {},
   "outputs": [],
   "source": []
  },
  {
   "cell_type": "markdown",
   "metadata": {},
   "source": [
    "### Tries"
   ]
  },
  {
   "cell_type": "code",
   "execution_count": null,
   "metadata": {},
   "outputs": [],
   "source": [
    "class Trie:\n",
    "    def __init__(self):\n",
    "        self.trie = {}\n",
    "\n",
    "    def insert(self, word):\n",
    "        curr = self.trie\n",
    "        for letter in word:\n",
    "            if letter not in curr:\n",
    "                curr[letter] = {}\n",
    "            curr = curr[letter]\n",
    "        curr['end'] = True\n",
    "\n",
    "    def search(self, word):\n",
    "        curr = self.trie\n",
    "        for letter in word:\n",
    "            if letter not in curr:\n",
    "                return False\n",
    "            curr = curr[letter]\n",
    "        return curr.get('end')"
   ]
  },
  {
   "cell_type": "markdown",
   "metadata": {},
   "source": [
    "### Dynamic Programming"
   ]
  },
  {
   "cell_type": "markdown",
   "metadata": {},
   "source": [
    "#### Top Down"
   ]
  },
  {
   "cell_type": "code",
   "execution_count": null,
   "metadata": {},
   "outputs": [],
   "source": [
    "# dfs but equivalent subtrees are memoized\n",
    "memo = {}\n",
    "def dfs(i):\n",
    "    if i in memo:\n",
    "        return memo[i]\n",
    "    memo[i] = dfs(i)\n",
    "    return memo[i]"
   ]
  },
  {
   "cell_type": "markdown",
   "metadata": {},
   "source": [
    "#### Bottom Up"
   ]
  },
  {
   "cell_type": "code",
   "execution_count": null,
   "metadata": {},
   "outputs": [],
   "source": []
  }
 ],
 "metadata": {
  "kernelspec": {
   "display_name": "Python 3",
   "language": "python",
   "name": "python3"
  },
  "language_info": {
   "codemirror_mode": {
    "name": "ipython",
    "version": 3
   },
   "file_extension": ".py",
   "mimetype": "text/x-python",
   "name": "python",
   "nbconvert_exporter": "python",
   "pygments_lexer": "ipython3",
   "version": "3.12.4"
  }
 },
 "nbformat": 4,
 "nbformat_minor": 2
}
